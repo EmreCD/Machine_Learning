{
 "cells": [
  {
   "cell_type": "code",
   "execution_count": 37,
   "id": "e5101b7b",
   "metadata": {},
   "outputs": [],
   "source": [
    "\n",
    "import numpy as np\n",
    "import pandas as pd\n",
    "from sklearn.linear_model import LinearRegression"
   ]
  },
  {
   "cell_type": "code",
   "execution_count": 38,
   "id": "3c89769a",
   "metadata": {},
   "outputs": [
    {
     "data": {
      "text/html": [
       "<div>\n",
       "<style scoped>\n",
       "    .dataframe tbody tr th:only-of-type {\n",
       "        vertical-align: middle;\n",
       "    }\n",
       "\n",
       "    .dataframe tbody tr th {\n",
       "        vertical-align: top;\n",
       "    }\n",
       "\n",
       "    .dataframe thead th {\n",
       "        text-align: right;\n",
       "    }\n",
       "</style>\n",
       "<table border=\"1\" class=\"dataframe\">\n",
       "  <thead>\n",
       "    <tr style=\"text-align: right;\">\n",
       "      <th></th>\n",
       "      <th>sinif</th>\n",
       "      <th>calisma_sure</th>\n",
       "      <th>notlar</th>\n",
       "    </tr>\n",
       "  </thead>\n",
       "  <tbody>\n",
       "    <tr>\n",
       "      <th>0</th>\n",
       "      <td>3</td>\n",
       "      <td>4.508</td>\n",
       "      <td>19.202</td>\n",
       "    </tr>\n",
       "    <tr>\n",
       "      <th>1</th>\n",
       "      <td>4</td>\n",
       "      <td>0.096</td>\n",
       "      <td>7.734</td>\n",
       "    </tr>\n",
       "    <tr>\n",
       "      <th>2</th>\n",
       "      <td>4</td>\n",
       "      <td>3.133</td>\n",
       "      <td>13.811</td>\n",
       "    </tr>\n",
       "  </tbody>\n",
       "</table>\n",
       "</div>"
      ],
      "text/plain": [
       "   sinif  calisma_sure  notlar\n",
       "0      3         4.508  19.202\n",
       "1      4         0.096   7.734\n",
       "2      4         3.133  13.811"
      ]
     },
     "execution_count": 38,
     "metadata": {},
     "output_type": "execute_result"
    }
   ],
   "source": [
    "df=pd.read_csv(\"dataset/ogrenci_not.csv\")\n",
    "df.head(3)"
   ]
  },
  {
   "cell_type": "code",
   "execution_count": 39,
   "id": "ac49644f",
   "metadata": {},
   "outputs": [],
   "source": [
    "#   Y = A * X  + B\n",
    "y=df[[\"notlar\"]] #Y = Tahmin etmek istediğimiz şey\n",
    "x=df[[\"sinif\",\"calisma_sure\"]] # bildiğimiz veriler\n",
    "\n",
    "# a. sınıf öğrencisi b saat çalışarak ortalama kaç puan labilir?"
   ]
  },
  {
   "cell_type": "code",
   "execution_count": 40,
   "id": "85485a5b",
   "metadata": {},
   "outputs": [
    {
     "name": "stdout",
     "output_type": "stream",
     "text": [
      "<class 'pandas.core.frame.DataFrame'>\n",
      "RangeIndex: 100 entries, 0 to 99\n",
      "Data columns (total 3 columns):\n",
      " #   Column        Non-Null Count  Dtype  \n",
      "---  ------        --------------  -----  \n",
      " 0   sinif         100 non-null    int64  \n",
      " 1   calisma_sure  100 non-null    float64\n",
      " 2   notlar        100 non-null    float64\n",
      "dtypes: float64(2), int64(1)\n",
      "memory usage: 2.5 KB\n"
     ]
    }
   ],
   "source": [
    "df.info() "
   ]
  },
  {
   "cell_type": "code",
   "execution_count": 41,
   "id": "fbb6f8bb",
   "metadata": {},
   "outputs": [],
   "source": [
    "#lineer regresyon modeli kullanarak modeli eğit\n",
    "lineer_model= LinearRegression()\n",
    "model=lineer_model.fit(x,y)"
   ]
  },
  {
   "cell_type": "code",
   "execution_count": 42,
   "id": "276202fc",
   "metadata": {},
   "outputs": [
    {
     "name": "stderr",
     "output_type": "stream",
     "text": [
      "C:\\Users\\dikba\\AppData\\Local\\Packages\\PythonSoftwareFoundation.Python.3.10_qbz5n2kfra8p0\\LocalCache\\local-packages\\Python310\\site-packages\\sklearn\\utils\\validation.py:2739: UserWarning: X does not have valid feature names, but LinearRegression was fitted with feature names\n",
      "  warnings.warn(\n"
     ]
    },
    {
     "data": {
      "text/plain": [
       "array([[53.99164461]])"
      ]
     },
     "execution_count": 42,
     "metadata": {},
     "output_type": "execute_result"
    }
   ],
   "source": [
    "#tahmin 4. sınıf öğrencisi 10 saat çalışırsa kaç alır?\n",
    "model.predict([[4,10]])"
   ]
  },
  {
   "cell_type": "code",
   "execution_count": 43,
   "id": "a70c2698",
   "metadata": {},
   "outputs": [
    {
     "data": {
      "text/plain": [
       "0.9403656320238896"
      ]
     },
     "execution_count": 43,
     "metadata": {},
     "output_type": "execute_result"
    }
   ],
   "source": [
    "model.score(x,y)\n",
    "#model doğruluk oranı %94 "
   ]
  }
 ],
 "metadata": {
  "kernelspec": {
   "display_name": "Python 3",
   "language": "python",
   "name": "python3"
  },
  "language_info": {
   "codemirror_mode": {
    "name": "ipython",
    "version": 3
   },
   "file_extension": ".py",
   "mimetype": "text/x-python",
   "name": "python",
   "nbconvert_exporter": "python",
   "pygments_lexer": "ipython3",
   "version": "3.10.11"
  }
 },
 "nbformat": 4,
 "nbformat_minor": 5
}
